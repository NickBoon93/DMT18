{
 "cells": [
  {
   "cell_type": "code",
   "execution_count": null,
   "metadata": {},
   "outputs": [],
   "source": [
    "import pandas as pd\n",
    "import matplotlib.pyplot as plt\n",
    "import numpy as np\n",
    "import scipy.stats as stats\n",
    "import seaborn as sns\n",
    "from matplotlib import rcParams\n",
    "\n",
    "from sklearn.ensemble import RandomForestClassifier"
   ]
  },
  {
   "cell_type": "markdown",
   "metadata": {},
   "source": [
    "# Complete example using RandomForestClassifier\n",
    "\n",
    "https://github.com/benhamner/ExpediaPersonalizedSortCompetition/"
   ]
  },
  {
   "cell_type": "code",
   "execution_count": null,
   "metadata": {},
   "outputs": [],
   "source": [
    "df = pd.read_csv('../../training_set_VU_DM_2014.csv').fillna(value=0)"
   ]
  },
  {
   "cell_type": "code",
   "execution_count": null,
   "metadata": {},
   "outputs": [],
   "source": [
    "# remove features not available in test set\n",
    "feature_names = list(df.columns)\n",
    "feature_names.remove(\"click_bool\")\n",
    "feature_names.remove(\"booking_bool\")\n",
    "feature_names.remove(\"gross_bookings_usd\")\n",
    "feature_names.remove(\"date_time\")\n",
    "feature_names.remove(\"position\")"
   ]
  },
  {
   "cell_type": "code",
   "execution_count": null,
   "metadata": {},
   "outputs": [],
   "source": [
    "# split into features and target\n",
    "features = df[feature_names].values\n",
    "target = df[\"booking_bool\"].values"
   ]
  },
  {
   "cell_type": "code",
   "execution_count": null,
   "metadata": {},
   "outputs": [],
   "source": [
    "# train model\n",
    "print(\"Training the Classifier\")\n",
    "classifier = RandomForestClassifier(n_estimators=50, \n",
    "                                        verbose=2,\n",
    "                                        n_jobs=4,\n",
    "                                        min_samples_split=10,\n",
    "                                        random_state=1)\n",
    "classifier.fit(features, target)"
   ]
  },
  {
   "cell_type": "code",
   "execution_count": null,
   "metadata": {},
   "outputs": [],
   "source": [
    "# # save model\n",
    "# filename = 'model.sav'\n",
    "# pickle.dump(classifier, open(filename, 'wb'))\n",
    "\n",
    "# # load model\n",
    "# loaded_model = pickle.load(open(filename, 'rb'))"
   ]
  },
  {
   "cell_type": "code",
   "execution_count": null,
   "metadata": {},
   "outputs": [],
   "source": [
    "# load test set\n",
    "test = pd.read_csv('../../test_set_VU_DM_2014.csv').fillna(value=0)"
   ]
  },
  {
   "cell_type": "code",
   "execution_count": null,
   "metadata": {},
   "outputs": [],
   "source": [
    "# obtain feature names and remove useless column date_time\n",
    "feature_names = list(test.columns)\n",
    "feature_names.remove(\"date_time\")\n",
    "\n",
    "# obtain feature values\n",
    "features = test[feature_names].values\n",
    "\n",
    "# predict using trained model\n",
    "print(\"Making predictions\")\n",
    "predictions = classifier.predict_proba(features)[:,1]\n",
    "predictions = list(-1.0*predictions)\n",
    "recommendations = zip(test[\"srch_id\"], test[\"prop_id\"], predictions)"
   ]
  },
  {
   "cell_type": "code",
   "execution_count": null,
   "metadata": {},
   "outputs": [],
   "source": [
    "# sort based on recommendation value and write sorted prediction to file\n",
    "\n",
    "from operator import itemgetter\n",
    "import csv\n",
    "\n",
    "rows = [(srch_id, prop_id)\n",
    "        for srch_id, prop_id, rank_float\n",
    "        in sorted(recommendations, key=itemgetter(0,2))]\n",
    "writer = csv.writer(open(\"predict.csv\", \"w\"), lineterminator=\"\\n\")\n",
    "writer.writerow((\"SearchId\", \"PropertyId\"))\n",
    "writer.writerows(rows)"
   ]
  }
 ],
 "metadata": {
  "kernelspec": {
   "display_name": "Python 3",
   "language": "python",
   "name": "python3"
  },
  "language_info": {
   "codemirror_mode": {
    "name": "ipython",
    "version": 3
   },
   "file_extension": ".py",
   "mimetype": "text/x-python",
   "name": "python",
   "nbconvert_exporter": "python",
   "pygments_lexer": "ipython3",
   "version": "3.6.5"
  }
 },
 "nbformat": 4,
 "nbformat_minor": 2
}
