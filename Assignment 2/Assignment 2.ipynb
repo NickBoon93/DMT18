{
 "cells": [
  {
   "cell_type": "code",
   "execution_count": null,
   "metadata": {},
   "outputs": [],
   "source": [
    "import pandas as pd\n",
    "import matplotlib.pyplot as plt\n",
    "import numpy as np\n",
    "import scipy.stats as stats\n",
    "import seaborn as sns\n",
    "from matplotlib import rcParams\n",
    "\n",
    "from sklearn.ensemble import RandomForestClassifier\n",
    "\n",
    "import datetime\n",
    "\n",
    "pd.set_option('display.max_columns',50)\n",
    "pd.set_option('display.max_rows',50)\n",
    "\n",
    "%matplotlib inline"
   ]
  },
  {
   "cell_type": "markdown",
   "metadata": {},
   "source": [
    "## Sites to look at\n",
    "\n",
    "https://www.dataquest.io/blog/kaggle-tutorial/"
   ]
  },
  {
   "cell_type": "markdown",
   "metadata": {},
   "source": [
    "## Exploration"
   ]
  },
  {
   "cell_type": "code",
   "execution_count": null,
   "metadata": {},
   "outputs": [],
   "source": [
    "#Load dataset\n",
    "df = pd.read_csv('../../training_set_VU_DM_2014.csv')"
   ]
  },
  {
   "cell_type": "code",
   "execution_count": null,
   "metadata": {},
   "outputs": [],
   "source": [
    "#convert date_time to datetime\n",
    "df[\"date_time\"] = pd.to_datetime(df[\"date_time\"])\n",
    "\n",
    "#add column for the starting date of the booking\n",
    "df[\"book_start\"] = df[\"date_time\"] + pd.to_timedelta(df['srch_booking_window'], unit='D')\n",
    "\n",
    "#extract month\n",
    "df[\"book_start_month\"] = df[\"book_start\"].dt.month"
   ]
  },
  {
   "cell_type": "code",
   "execution_count": null,
   "metadata": {},
   "outputs": [],
   "source": [
    "df.dtypes"
   ]
  },
  {
   "cell_type": "code",
   "execution_count": null,
   "metadata": {},
   "outputs": [],
   "source": [
    "#should not use columns only available in training set\n",
    "df.drop([\"position\",\"click_bool\",\"gross_bookings_usd\"],axis=1,inplace=True)\n",
    "#keep booking_bool, as this is our target!\n",
    "#can also drop random_bool, as this influences the sorting but we don't have position!\n",
    "df.drop([\"random_bool\"],axis=1,inplace=True)"
   ]
  },
  {
   "cell_type": "code",
   "execution_count": null,
   "metadata": {},
   "outputs": [],
   "source": [
    "#Take minimum of comp#_rate columns. If Expedia is cheaper than all competitors (all are 1), this will be 1.\n",
    "#If one competitor is cheaper (-1), this column will equal -1 (and have less chance of being booked at Expedia!)\n",
    "df[\"comp\"] = df[[\"comp%d_rate\"%i for i in range(1,9)]].min(axis=1)"
   ]
  },
  {
   "cell_type": "code",
   "execution_count": null,
   "metadata": {},
   "outputs": [],
   "source": [
    "#multiply comp_rate and comp_rate_percent_diff and drop the old columns\n",
    "for i in range(1,9):\n",
    "    df[\"comp%d\"%i] = df[\"comp%d_rate\"%i] * df[\"comp%d_rate_percent_diff\"%i]\n",
    "    df.drop([\"comp%d_rate\"%i, \"comp%d_rate_percent_diff\"%i],axis=1,inplace=True)"
   ]
  },
  {
   "cell_type": "code",
   "execution_count": null,
   "metadata": {},
   "outputs": [],
   "source": [
    "df.columns"
   ]
  },
  {
   "cell_type": "code",
   "execution_count": null,
   "metadata": {
    "scrolled": false
   },
   "outputs": [],
   "source": [
    "#show correlations with the target booking_bool\n",
    "df.corr()[\"booking_bool\"]"
   ]
  },
  {
   "cell_type": "code",
   "execution_count": null,
   "metadata": {},
   "outputs": [],
   "source": [
    "# #what are -1 values? Expedia has no availability, but competitor does? Why would Expedia then show the hotel?\n",
    "# #(Create new feature based on availablility?)\n",
    "# for i in range(1,9):\n",
    "#     print(df[\"comp%d_inv\"%i].value_counts())\n",
    "#     print(\"Number of NaNs: %d\"%df[\"comp%d_inv\"%i].isnull().sum())"
   ]
  },
  {
   "cell_type": "markdown",
   "metadata": {},
   "source": [
    "# Exploration"
   ]
  },
  {
   "cell_type": "code",
   "execution_count": null,
   "metadata": {
    "scrolled": true
   },
   "outputs": [],
   "source": [
    "df.head(50)"
   ]
  },
  {
   "cell_type": "code",
   "execution_count": null,
   "metadata": {},
   "outputs": [],
   "source": [
    "print(df.columns.values)"
   ]
  },
  {
   "cell_type": "code",
   "execution_count": null,
   "metadata": {
    "scrolled": true
   },
   "outputs": [],
   "source": [
    "df.dtypes"
   ]
  },
  {
   "cell_type": "code",
   "execution_count": null,
   "metadata": {
    "scrolled": false
   },
   "outputs": [],
   "source": [
    "#show hist of all columns\n",
    "df.hist(df.columns.values,figsize=(8,10*len(df.columns)),layout=(len(df.columns),1));"
   ]
  }
 ],
 "metadata": {
  "kernelspec": {
   "display_name": "Python 3",
   "language": "python",
   "name": "python3"
  },
  "language_info": {
   "codemirror_mode": {
    "name": "ipython",
    "version": 3
   },
   "file_extension": ".py",
   "mimetype": "text/x-python",
   "name": "python",
   "nbconvert_exporter": "python",
   "pygments_lexer": "ipython3",
   "version": "3.6.5"
  }
 },
 "nbformat": 4,
 "nbformat_minor": 2
}
