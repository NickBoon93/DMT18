{
 "cells": [
  {
   "cell_type": "markdown",
   "metadata": {},
   "source": [
    "https://www.springboard.com/blog/data-mining-python-tutorial/\n",
    "\n",
    "http://www.developintelligence.com/blog/2017/08/data-cleaning-pandas-python/"
   ]
  },
  {
   "cell_type": "markdown",
   "metadata": {},
   "source": [
    "## Imports"
   ]
  },
  {
   "cell_type": "code",
   "execution_count": null,
   "metadata": {
    "collapsed": true
   },
   "outputs": [],
   "source": [
    "import pandas as pd\n",
    "import matplotlib.pyplot as plt\n",
    "import numpy as np\n",
    "import scipy.stats as stats\n",
    "import seaborn as sns\n",
    "from matplotlib import rcParams\n",
    "\n",
    "from collections import Counter\n",
    "from datetime import datetime\n",
    "\n",
    "%matplotlib inline"
   ]
  },
  {
   "cell_type": "markdown",
   "metadata": {},
   "source": [
    "## Load dataset"
   ]
  },
  {
   "cell_type": "code",
   "execution_count": null,
   "metadata": {},
   "outputs": [],
   "source": [
    "df = pd.read_csv('ODI-2018.csv',skiprows=[1])\n",
    "df = df.rename(columns = {'What programme are you in?':'Programme'})\n",
    "df.head(10)"
   ]
  },
  {
   "cell_type": "markdown",
   "metadata": {},
   "source": [
    "Check for null values"
   ]
  },
  {
   "cell_type": "code",
   "execution_count": null,
   "metadata": {},
   "outputs": [],
   "source": [
    "df.isnull().any()"
   ]
  },
  {
   "cell_type": "markdown",
   "metadata": {},
   "source": [
    "Check for value types"
   ]
  },
  {
   "cell_type": "code",
   "execution_count": null,
   "metadata": {},
   "outputs": [],
   "source": [
    "df.dtypes"
   ]
  },
  {
   "cell_type": "code",
   "execution_count": null,
   "metadata": {},
   "outputs": [],
   "source": [
    "df.describe()"
   ]
  },
  {
   "cell_type": "markdown",
   "metadata": {},
   "source": [
    "Cleaning first column"
   ]
  },
  {
   "cell_type": "code",
   "execution_count": null,
   "metadata": {
    "scrolled": true
   },
   "outputs": [],
   "source": [
    "#https://stackoverflow.com/questions/20250771/remap-values-in-pandas-column-with-a-dict\n",
    "\n",
    "data = df[df.columns[1]].replace(\n",
    "    {'21-05-1995':'',\n",
    "     'A. I. ':'Artificial Intelligence',\n",
    "    'AI':'Artificial Intelligence',\n",
    "    'Ai':'Artificial Intelligence',\n",
    "    'AI (Cognitive Sciences)':'Artificial Intelligence',\n",
    "    'AI (VU version)':'Artificial Intelligence',\n",
    "    'AI VU ':'Artificial Intelligence',\n",
    "    'AI premaster':'Artificial Intelligence',\n",
    "    'Artificial Intelligence (Socially Aware Computing)':'Artificial Intelligence',\n",
    "    'Artificial intelligence ':'Artificial Intelligence',\n",
    "    'BA':'Business Analytics',\n",
    "    'Big data engineering':'Computer Science',\n",
    "    'Bioinformatcis':'Bioinformatics & Systems Biology',\n",
    "    'Bioinformatics ':'Bioinformatics & Systems Biology',\n",
    "    'Bioinformatics & System Biology':'Bioinformatics & Systems Biology',\n",
    "    'Bioinformatics':'Bioinformatics & Systems Biology',\n",
    "    'Bioinformatics & Systems biology':'Bioinformatics & Systems Biology',\n",
    "    'Bioinformatics and SysBio':'Bioinformatics & Systems Biology',\n",
    "    'Bioinformatics and Systems Biology':'Bioinformatics & Systems Biology',\n",
    "    'Bioinformatics and Systems biology':'Bioinformatics & Systems Biology',\n",
    "    'Bioinformatics and systems biology':'Bioinformatics & Systems Biology',\n",
    "    'Bioinformatics master':'Bioinformatics & Systems Biology',\n",
    "    'Business Analytics Msc':'Business Analytics',\n",
    "    'Business Analytics/ operations research':'Business Analytics',\n",
    "    'Business analytics':'Business Analytics',\n",
    "    'CLS':'Computational Science',\n",
    "    'CS':'Computer Science',\n",
    "    'Cls':'Computational Science',\n",
    "    'Comoputational science':'Computational Science',\n",
    "    'Computational Science (JD)':'Computational Science',\n",
    "    'Computational science':'Computational Science',\n",
    "    'Computer Science: Big Data Engineering':'Computer Science',\n",
    "    'Data Mining Techniques':'',\n",
    "    })\n",
    "data = data.str.lower()\n",
    "data = data.str.strip()\n",
    "Counter(data)"
   ]
  },
  {
   "cell_type": "code",
   "execution_count": null,
   "metadata": {},
   "outputs": [],
   "source": [
    "print(df.columns[2])\n",
    "Counter(df[df.columns[2]])"
   ]
  },
  {
   "cell_type": "code",
   "execution_count": null,
   "metadata": {},
   "outputs": [],
   "source": [
    "print(df.columns[3])\n",
    "Counter(df[df.columns[3]])"
   ]
  },
  {
   "cell_type": "code",
   "execution_count": null,
   "metadata": {},
   "outputs": [],
   "source": [
    "print(df.columns[4])\n",
    "Counter(df[df.columns[4]])"
   ]
  },
  {
   "cell_type": "code",
   "execution_count": null,
   "metadata": {},
   "outputs": [],
   "source": [
    "print(df.columns[5])\n",
    "Counter(df[df.columns[5]])"
   ]
  },
  {
   "cell_type": "code",
   "execution_count": null,
   "metadata": {},
   "outputs": [],
   "source": [
    "print(df.columns[6])\n",
    "Counter(df[df.columns[6]])"
   ]
  },
  {
   "cell_type": "code",
   "execution_count": null,
   "metadata": {},
   "outputs": [],
   "source": [
    "print(df.columns[7])\n",
    "Counter(df[df.columns[7]])"
   ]
  },
  {
   "cell_type": "code",
   "execution_count": null,
   "metadata": {},
   "outputs": [],
   "source": [
    "print(df.columns[8])\n",
    "data = df[df.columns[8]].str.replace(\"/\",\"-\")\n",
    "data = data.str.replace(\".\",\"-\")\n",
    "Counter(data)\n",
    "#https://stackoverflow.com/a/466376\n",
    "print(data[:10])\n",
    "for i in data.values:\n",
    "    try:\n",
    "        print(datetime.strptime(i,'%d-%m-%Y'))\n",
    "    except:\n",
    "        try:\n",
    "            print(datetime.strptime(i,'%d %B %Y'))\n",
    "        except:\n",
    "            print(\"Error for date %s\"%(i))"
   ]
  },
  {
   "cell_type": "code",
   "execution_count": null,
   "metadata": {},
   "outputs": [],
   "source": [
    "print(df.columns[9])\n",
    "Counter(df[df.columns[9]])"
   ]
  },
  {
   "cell_type": "code",
   "execution_count": null,
   "metadata": {},
   "outputs": [],
   "source": [
    "print(df.columns[10])\n",
    "Counter(df[df.columns[10]])"
   ]
  },
  {
   "cell_type": "code",
   "execution_count": null,
   "metadata": {},
   "outputs": [],
   "source": [
    "print(df.columns[11])\n",
    "Counter(df[df.columns[11]])"
   ]
  },
  {
   "cell_type": "markdown",
   "metadata": {},
   "source": [
    "Cleaning random number column and plotting histogram of numbers 0-10"
   ]
  },
  {
   "cell_type": "code",
   "execution_count": null,
   "metadata": {
    "scrolled": true
   },
   "outputs": [],
   "source": [
    "#https://stackoverflow.com/a/34844867\n",
    "data = df[df.columns[12]].apply(pd.to_numeric,errors='coerce') #non-numeric -> NaN\n",
    "data = data.dropna() #drop NaN values\n",
    "#https://stackoverflow.com/a/40442778\n",
    "data = data[data.between(0, 10)]\n",
    "plt.hist(data.values);"
   ]
  },
  {
   "cell_type": "code",
   "execution_count": null,
   "metadata": {},
   "outputs": [],
   "source": [
    "print(df.columns[13])\n",
    "Counter(df[df.columns[13]])"
   ]
  },
  {
   "cell_type": "code",
   "execution_count": null,
   "metadata": {
    "scrolled": false
   },
   "outputs": [],
   "source": [
    "print(df.columns[14])\n",
    "Counter(df[df.columns[14]])"
   ]
  },
  {
   "cell_type": "code",
   "execution_count": null,
   "metadata": {
    "scrolled": false
   },
   "outputs": [],
   "source": [
    "print(df.columns[15])\n",
    "Counter(df[df.columns[15]])"
   ]
  },
  {
   "cell_type": "code",
   "execution_count": null,
   "metadata": {
    "collapsed": true
   },
   "outputs": [],
   "source": []
  }
 ],
 "metadata": {
  "kernelspec": {
   "display_name": "Python 3",
   "language": "python",
   "name": "python3"
  },
  "language_info": {
   "codemirror_mode": {
    "name": "ipython",
    "version": 3
   },
   "file_extension": ".py",
   "mimetype": "text/x-python",
   "name": "python",
   "nbconvert_exporter": "python",
   "pygments_lexer": "ipython3",
   "version": "3.6.2"
  }
 },
 "nbformat": 4,
 "nbformat_minor": 2
}
